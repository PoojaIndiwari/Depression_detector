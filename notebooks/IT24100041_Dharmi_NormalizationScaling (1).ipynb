{
 "cells": [
  {
   "cell_type": "code",
   "id": "initial_id",
   "metadata": {
    "collapsed": true,
    "ExecuteTime": {
     "end_time": "2025-09-25T17:39:27.119906Z",
     "start_time": "2025-09-25T17:39:27.043197Z"
    }
   },
   "source": [
    "from pathlib import Path\n",
    "import pandas as pd\n",
    "import numpy as np\n",
    "from sklearn.preprocessing import StandardScaler\n",
    "import matplotlib.pyplot as plt"
   ],
   "outputs": [],
   "execution_count": 1
  },
  {
   "metadata": {
    "ExecuteTime": {
     "end_time": "2025-09-25T17:39:27.839369Z",
     "start_time": "2025-09-25T17:39:27.775362Z"
    }
   },
   "cell_type": "code",
   "source": [
    "def find_root():\n",
    "    p = Path.cwd()\n",
    "    for _ in range(5):\n",
    "        if (p/'results'/'outputs'/'04_pca_reduced.csv').exists() or (p/'results').exists():\n",
    "            return p\n",
    "        p = p.parent\n",
    "    return Path.cwd()\n",
    "\n",
    "ROOT = find_root()\n",
    "VIS_DIR = ROOT/'results'/'eda_visualizations'\n",
    "OUT_DIR = ROOT/'results'/'outputs'\n",
    "df = pd.read_csv(OUT_DIR/'04_pca_reduced.csv')\n",
    "TARGET = 'Depression'\n",
    "print(df.shape)\n",
    "\n",
    "\n",
    "num_cols = df.select_dtypes(include=[np.number]).columns.drop(TARGET, errors='ignore')\n",
    "pca_cols = [c for c in df.columns if c.startswith('PCA_')]\n",
    "other_num = [c for c in num_cols if c not in pca_cols]\n",
    "df.head()"
   ],
   "id": "e93050fefe54d3b8",
   "outputs": [
    {
     "name": "stdout",
     "output_type": "stream",
     "text": [
      "(27901, 13)\n"
     ]
    },
    {
     "data": {
      "text/plain": [
       "      PCA_1     PCA_2     PCA_3     PCA_4     PCA_5     PCA_6     PCA_7  \\\n",
       "0  1.354889 -0.461946 -1.304167 -0.553253  1.339322  2.171098 -0.464770   \n",
       "1 -2.137472 -1.382699  0.934879  0.333345 -0.752611 -1.465197 -1.806167   \n",
       "2 -2.089977 -0.392260 -0.894180 -2.097222  0.607102  0.326287 -1.983398   \n",
       "3  1.022568 -1.523374  0.414855  1.907671 -0.342986 -1.364335 -1.877241   \n",
       "4  0.097937 -0.912120  1.411545  0.414433  0.397165  0.195281 -0.460175   \n",
       "\n",
       "      PCA_8     PCA_9    PCA_10    PCA_11    PCA_12  Depression  \n",
       "0 -0.124972 -1.283599  1.268966  1.423577  0.920441           1  \n",
       "1 -1.050295 -1.165202 -0.167835  0.749534 -0.800566           0  \n",
       "2  0.312080  0.471597  1.269501  1.118669 -0.864279           0  \n",
       "3 -0.879892 -0.748270  0.375049  0.579325  1.195464           1  \n",
       "4 -0.782131 -2.592791  0.096868  0.476846  0.803571           0  "
      ],
      "text/html": [
       "<div>\n",
       "<style scoped>\n",
       "    .dataframe tbody tr th:only-of-type {\n",
       "        vertical-align: middle;\n",
       "    }\n",
       "\n",
       "    .dataframe tbody tr th {\n",
       "        vertical-align: top;\n",
       "    }\n",
       "\n",
       "    .dataframe thead th {\n",
       "        text-align: right;\n",
       "    }\n",
       "</style>\n",
       "<table border=\"1\" class=\"dataframe\">\n",
       "  <thead>\n",
       "    <tr style=\"text-align: right;\">\n",
       "      <th></th>\n",
       "      <th>PCA_1</th>\n",
       "      <th>PCA_2</th>\n",
       "      <th>PCA_3</th>\n",
       "      <th>PCA_4</th>\n",
       "      <th>PCA_5</th>\n",
       "      <th>PCA_6</th>\n",
       "      <th>PCA_7</th>\n",
       "      <th>PCA_8</th>\n",
       "      <th>PCA_9</th>\n",
       "      <th>PCA_10</th>\n",
       "      <th>PCA_11</th>\n",
       "      <th>PCA_12</th>\n",
       "      <th>Depression</th>\n",
       "    </tr>\n",
       "  </thead>\n",
       "  <tbody>\n",
       "    <tr>\n",
       "      <th>0</th>\n",
       "      <td>1.354889</td>\n",
       "      <td>-0.461946</td>\n",
       "      <td>-1.304167</td>\n",
       "      <td>-0.553253</td>\n",
       "      <td>1.339322</td>\n",
       "      <td>2.171098</td>\n",
       "      <td>-0.464770</td>\n",
       "      <td>-0.124972</td>\n",
       "      <td>-1.283599</td>\n",
       "      <td>1.268966</td>\n",
       "      <td>1.423577</td>\n",
       "      <td>0.920441</td>\n",
       "      <td>1</td>\n",
       "    </tr>\n",
       "    <tr>\n",
       "      <th>1</th>\n",
       "      <td>-2.137472</td>\n",
       "      <td>-1.382699</td>\n",
       "      <td>0.934879</td>\n",
       "      <td>0.333345</td>\n",
       "      <td>-0.752611</td>\n",
       "      <td>-1.465197</td>\n",
       "      <td>-1.806167</td>\n",
       "      <td>-1.050295</td>\n",
       "      <td>-1.165202</td>\n",
       "      <td>-0.167835</td>\n",
       "      <td>0.749534</td>\n",
       "      <td>-0.800566</td>\n",
       "      <td>0</td>\n",
       "    </tr>\n",
       "    <tr>\n",
       "      <th>2</th>\n",
       "      <td>-2.089977</td>\n",
       "      <td>-0.392260</td>\n",
       "      <td>-0.894180</td>\n",
       "      <td>-2.097222</td>\n",
       "      <td>0.607102</td>\n",
       "      <td>0.326287</td>\n",
       "      <td>-1.983398</td>\n",
       "      <td>0.312080</td>\n",
       "      <td>0.471597</td>\n",
       "      <td>1.269501</td>\n",
       "      <td>1.118669</td>\n",
       "      <td>-0.864279</td>\n",
       "      <td>0</td>\n",
       "    </tr>\n",
       "    <tr>\n",
       "      <th>3</th>\n",
       "      <td>1.022568</td>\n",
       "      <td>-1.523374</td>\n",
       "      <td>0.414855</td>\n",
       "      <td>1.907671</td>\n",
       "      <td>-0.342986</td>\n",
       "      <td>-1.364335</td>\n",
       "      <td>-1.877241</td>\n",
       "      <td>-0.879892</td>\n",
       "      <td>-0.748270</td>\n",
       "      <td>0.375049</td>\n",
       "      <td>0.579325</td>\n",
       "      <td>1.195464</td>\n",
       "      <td>1</td>\n",
       "    </tr>\n",
       "    <tr>\n",
       "      <th>4</th>\n",
       "      <td>0.097937</td>\n",
       "      <td>-0.912120</td>\n",
       "      <td>1.411545</td>\n",
       "      <td>0.414433</td>\n",
       "      <td>0.397165</td>\n",
       "      <td>0.195281</td>\n",
       "      <td>-0.460175</td>\n",
       "      <td>-0.782131</td>\n",
       "      <td>-2.592791</td>\n",
       "      <td>0.096868</td>\n",
       "      <td>0.476846</td>\n",
       "      <td>0.803571</td>\n",
       "      <td>0</td>\n",
       "    </tr>\n",
       "  </tbody>\n",
       "</table>\n",
       "</div>"
      ]
     },
     "execution_count": 2,
     "metadata": {},
     "output_type": "execute_result"
    }
   ],
   "execution_count": 2
  },
  {
   "metadata": {
    "ExecuteTime": {
     "end_time": "2025-09-25T17:39:30.899024Z",
     "start_time": "2025-09-25T17:39:30.885175Z"
    }
   },
   "cell_type": "code",
   "source": [
    "# Scale any remaining numeric columns (that were not part of PCA)\n",
    "scaler = StandardScaler()\n",
    "df_scaled = df.copy()\n",
    "if other_num:\n",
    "    df_scaled[other_num] = scaler.fit_transform(df_scaled[other_num])\n",
    "df_scaled.head()"
   ],
   "id": "481df1d1f52660c",
   "outputs": [
    {
     "data": {
      "text/plain": [
       "      PCA_1     PCA_2     PCA_3     PCA_4     PCA_5     PCA_6     PCA_7  \\\n",
       "0  1.354889 -0.461946 -1.304167 -0.553253  1.339322  2.171098 -0.464770   \n",
       "1 -2.137472 -1.382699  0.934879  0.333345 -0.752611 -1.465197 -1.806167   \n",
       "2 -2.089977 -0.392260 -0.894180 -2.097222  0.607102  0.326287 -1.983398   \n",
       "3  1.022568 -1.523374  0.414855  1.907671 -0.342986 -1.364335 -1.877241   \n",
       "4  0.097937 -0.912120  1.411545  0.414433  0.397165  0.195281 -0.460175   \n",
       "\n",
       "      PCA_8     PCA_9    PCA_10    PCA_11    PCA_12  Depression  \n",
       "0 -0.124972 -1.283599  1.268966  1.423577  0.920441           1  \n",
       "1 -1.050295 -1.165202 -0.167835  0.749534 -0.800566           0  \n",
       "2  0.312080  0.471597  1.269501  1.118669 -0.864279           0  \n",
       "3 -0.879892 -0.748270  0.375049  0.579325  1.195464           1  \n",
       "4 -0.782131 -2.592791  0.096868  0.476846  0.803571           0  "
      ],
      "text/html": [
       "<div>\n",
       "<style scoped>\n",
       "    .dataframe tbody tr th:only-of-type {\n",
       "        vertical-align: middle;\n",
       "    }\n",
       "\n",
       "    .dataframe tbody tr th {\n",
       "        vertical-align: top;\n",
       "    }\n",
       "\n",
       "    .dataframe thead th {\n",
       "        text-align: right;\n",
       "    }\n",
       "</style>\n",
       "<table border=\"1\" class=\"dataframe\">\n",
       "  <thead>\n",
       "    <tr style=\"text-align: right;\">\n",
       "      <th></th>\n",
       "      <th>PCA_1</th>\n",
       "      <th>PCA_2</th>\n",
       "      <th>PCA_3</th>\n",
       "      <th>PCA_4</th>\n",
       "      <th>PCA_5</th>\n",
       "      <th>PCA_6</th>\n",
       "      <th>PCA_7</th>\n",
       "      <th>PCA_8</th>\n",
       "      <th>PCA_9</th>\n",
       "      <th>PCA_10</th>\n",
       "      <th>PCA_11</th>\n",
       "      <th>PCA_12</th>\n",
       "      <th>Depression</th>\n",
       "    </tr>\n",
       "  </thead>\n",
       "  <tbody>\n",
       "    <tr>\n",
       "      <th>0</th>\n",
       "      <td>1.354889</td>\n",
       "      <td>-0.461946</td>\n",
       "      <td>-1.304167</td>\n",
       "      <td>-0.553253</td>\n",
       "      <td>1.339322</td>\n",
       "      <td>2.171098</td>\n",
       "      <td>-0.464770</td>\n",
       "      <td>-0.124972</td>\n",
       "      <td>-1.283599</td>\n",
       "      <td>1.268966</td>\n",
       "      <td>1.423577</td>\n",
       "      <td>0.920441</td>\n",
       "      <td>1</td>\n",
       "    </tr>\n",
       "    <tr>\n",
       "      <th>1</th>\n",
       "      <td>-2.137472</td>\n",
       "      <td>-1.382699</td>\n",
       "      <td>0.934879</td>\n",
       "      <td>0.333345</td>\n",
       "      <td>-0.752611</td>\n",
       "      <td>-1.465197</td>\n",
       "      <td>-1.806167</td>\n",
       "      <td>-1.050295</td>\n",
       "      <td>-1.165202</td>\n",
       "      <td>-0.167835</td>\n",
       "      <td>0.749534</td>\n",
       "      <td>-0.800566</td>\n",
       "      <td>0</td>\n",
       "    </tr>\n",
       "    <tr>\n",
       "      <th>2</th>\n",
       "      <td>-2.089977</td>\n",
       "      <td>-0.392260</td>\n",
       "      <td>-0.894180</td>\n",
       "      <td>-2.097222</td>\n",
       "      <td>0.607102</td>\n",
       "      <td>0.326287</td>\n",
       "      <td>-1.983398</td>\n",
       "      <td>0.312080</td>\n",
       "      <td>0.471597</td>\n",
       "      <td>1.269501</td>\n",
       "      <td>1.118669</td>\n",
       "      <td>-0.864279</td>\n",
       "      <td>0</td>\n",
       "    </tr>\n",
       "    <tr>\n",
       "      <th>3</th>\n",
       "      <td>1.022568</td>\n",
       "      <td>-1.523374</td>\n",
       "      <td>0.414855</td>\n",
       "      <td>1.907671</td>\n",
       "      <td>-0.342986</td>\n",
       "      <td>-1.364335</td>\n",
       "      <td>-1.877241</td>\n",
       "      <td>-0.879892</td>\n",
       "      <td>-0.748270</td>\n",
       "      <td>0.375049</td>\n",
       "      <td>0.579325</td>\n",
       "      <td>1.195464</td>\n",
       "      <td>1</td>\n",
       "    </tr>\n",
       "    <tr>\n",
       "      <th>4</th>\n",
       "      <td>0.097937</td>\n",
       "      <td>-0.912120</td>\n",
       "      <td>1.411545</td>\n",
       "      <td>0.414433</td>\n",
       "      <td>0.397165</td>\n",
       "      <td>0.195281</td>\n",
       "      <td>-0.460175</td>\n",
       "      <td>-0.782131</td>\n",
       "      <td>-2.592791</td>\n",
       "      <td>0.096868</td>\n",
       "      <td>0.476846</td>\n",
       "      <td>0.803571</td>\n",
       "      <td>0</td>\n",
       "    </tr>\n",
       "  </tbody>\n",
       "</table>\n",
       "</div>"
      ]
     },
     "execution_count": 3,
     "metadata": {},
     "output_type": "execute_result"
    }
   ],
   "execution_count": 3
  },
  {
   "metadata": {
    "ExecuteTime": {
     "end_time": "2025-09-25T17:41:56.393571Z",
     "start_time": "2025-09-25T17:41:56.389989Z"
    }
   },
   "cell_type": "code",
   "source": [
    "#Histogram\n",
    "feat = other_num[0] if len(other_num) else None\n",
    "if feat:\n",
    "    plt.figure()\n",
    "    df[feat].plot(kind='hist', bins=30, alpha=0.6, label='before')\n",
    "    df_scaled[feat].plot(kind='hist', bins=30, alpha=0.6, label='after')\n",
    "    plt.legend(); plt.title(f'{feat}: before vs after scaling')\n",
    "    plt.tight_layout(); plt.savefig(VIS_DIR/'17_scaling_hist_before_after.png', dpi=150); plt.close()"
   ],
   "id": "b6b5d0a435effe75",
   "outputs": [],
   "execution_count": 4
  },
  {
   "metadata": {
    "ExecuteTime": {
     "end_time": "2025-09-25T17:42:08.834078Z",
     "start_time": "2025-09-25T17:42:08.830599Z"
    }
   },
   "cell_type": "code",
   "source": [
    "feat2 = other_num[1] if len(other_num) > 1 else None\n",
    "if feat2:\n",
    "    plt.figure()\n",
    "    df[feat2].plot(kind='kde', label='before')\n",
    "    df_scaled[feat2].plot(kind='kde', label='after')\n",
    "    plt.legend(); plt.title(f'{feat2}: KDE before vs after')\n",
    "    plt.tight_layout(); plt.savefig(VIS_DIR/'18_scaling_kde.png', dpi=150); plt.close()"
   ],
   "id": "1070aaa1b6cd46fa",
   "outputs": [],
   "execution_count": 5
  },
  {
   "metadata": {
    "ExecuteTime": {
     "end_time": "2025-09-25T17:42:18.769367Z",
     "start_time": "2025-09-25T17:42:18.596737Z"
    }
   },
   "cell_type": "code",
   "source": [
    "if pca_cols:\n",
    "    plt.figure()\n",
    "    df[pca_cols[0]].plot(kind='hist', bins=30, alpha=0.6, label='PCA_1 (pre)')\n",
    "    df_scaled[pca_cols[0]].plot(kind='hist', bins=30, alpha=0.6, label='PCA_1 (post)')\n",
    "    plt.legend(); plt.title('PCA_1 distribution pre/post scaling step')\n",
    "    plt.tight_layout(); plt.savefig(VIS_DIR/'19_scaling_pca_check.png', dpi=150); plt.close()"
   ],
   "id": "895b3b62a5e00557",
   "outputs": [],
   "execution_count": 6
  },
  {
   "metadata": {
    "ExecuteTime": {
     "end_time": "2025-09-25T17:42:23.122372Z",
     "start_time": "2025-09-25T17:42:23.119310Z"
    }
   },
   "cell_type": "code",
   "source": [
    "#boxplot\n",
    "if other_num:\n",
    "    df_scaled[other_num].plot(kind='box', title='Scaled (non-PCA) numeric features')\n",
    "    plt.tight_layout(); plt.savefig(VIS_DIR/'20_scaling_boxplot.png', dpi=150); plt.close()"
   ],
   "id": "bd24982d912b61a1",
   "outputs": [],
   "execution_count": 7
  },
  {
   "metadata": {
    "ExecuteTime": {
     "end_time": "2025-09-25T17:42:28.510529Z",
     "start_time": "2025-09-25T17:42:28.253689Z"
    }
   },
   "cell_type": "code",
   "source": [
    "out_path = OUT_DIR/'05_scaled.csv'\n",
    "df_scaled.to_csv(out_path, index=False)\n",
    "out_path"
   ],
   "id": "ffdf46bda9107391",
   "outputs": [
    {
     "data": {
      "text/plain": [
       "WindowsPath('D:/Depression_detector/results/outputs/05_scaled.csv')"
      ]
     },
     "execution_count": 8,
     "metadata": {},
     "output_type": "execute_result"
    }
   ],
   "execution_count": 8
  }
 ],
 "metadata": {
  "kernelspec": {
   "display_name": "Python 3",
   "language": "python",
   "name": "python3"
  },
  "language_info": {
   "codemirror_mode": {
    "name": "ipython",
    "version": 2
   },
   "file_extension": ".py",
   "mimetype": "text/x-python",
   "name": "python",
   "nbconvert_exporter": "python",
   "pygments_lexer": "ipython2",
   "version": "2.7.6"
  }
 },
 "nbformat": 4,
 "nbformat_minor": 5
}
