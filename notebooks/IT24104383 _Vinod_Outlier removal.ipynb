{
 "cells": [
  {
   "cell_type": "code",
   "id": "initial_id",
   "metadata": {
    "collapsed": true,
    "ExecuteTime": {
     "end_time": "2025-09-25T10:46:55.220523Z",
     "start_time": "2025-09-25T10:46:55.214954Z"
    }
   },
   "source": [
    "from pathlib import Path\n",
    "import pandas as pd\n",
    "import numpy as np\n",
    "import matplotlib.pyplot as plt"
   ],
   "outputs": [],
   "execution_count": 1
  },
  {
   "metadata": {
    "ExecuteTime": {
     "end_time": "2025-09-25T10:46:56.844424Z",
     "start_time": "2025-09-25T10:46:56.628267Z"
    }
   },
   "cell_type": "code",
   "source": [
    "def find_root():\n",
    "    p = Path.cwd()\n",
    "    for _ in range(5):\n",
    "        if (p/'results'/'outputs'/'01_encoded.csv').exists() or (p/'data'/'raw'/'student_depression_dataset.csv').exists():\n",
    "            return p if (p/'results').exists() else p\n",
    "        p = p.parent\n",
    "    return Path.cwd()\n",
    "\n",
    "ROOT = find_root()\n",
    "VIS_DIR = ROOT/'results'/'eda_visualizations'\n",
    "OUT_DIR = ROOT/'results'/'outputs'\n",
    "df = pd.read_csv(OUT_DIR/'01_encoded.csv')\n",
    "\n",
    "TARGET = 'Depression'\n",
    "print(df.shape)\n",
    "num_cols = df.select_dtypes(include=[np.number]).columns.drop(TARGET, errors='ignore')\n",
    "df.head()"
   ],
   "id": "ae22fd9c15a05fc6",
   "outputs": [
    {
     "name": "stdout",
     "output_type": "stream",
     "text": [
      "(27901, 121)\n"
     ]
    },
    {
     "data": {
      "text/plain": [
       "   id  Gender   Age  Academic Pressure  Work Pressure  CGPA  \\\n",
       "0   2       1  33.0                5.0            0.0  8.97   \n",
       "1   8       0  24.0                2.0            0.0  5.90   \n",
       "2  26       1  31.0                3.0            0.0  7.03   \n",
       "3  30       0  28.0                3.0            0.0  5.59   \n",
       "4  32       0  25.0                4.0            0.0  8.13   \n",
       "\n",
       "   Study Satisfaction  Job Satisfaction  \\\n",
       "0                 2.0               0.0   \n",
       "1                 5.0               0.0   \n",
       "2                 5.0               0.0   \n",
       "3                 2.0               0.0   \n",
       "4                 3.0               0.0   \n",
       "\n",
       "   Have you ever had suicidal thoughts ?  Work/Study Hours  ...  Degree_MHM  \\\n",
       "0                                      1               3.0  ...         0.0   \n",
       "1                                      0               3.0  ...         0.0   \n",
       "2                                      0               9.0  ...         0.0   \n",
       "3                                      1               4.0  ...         0.0   \n",
       "4                                      1               1.0  ...         0.0   \n",
       "\n",
       "   Degree_MSc  Degree_Others  Degree_PhD  Financial Stress_1.0  \\\n",
       "0         0.0            0.0         0.0                   1.0   \n",
       "1         0.0            0.0         0.0                   0.0   \n",
       "2         0.0            0.0         0.0                   1.0   \n",
       "3         0.0            0.0         0.0                   0.0   \n",
       "4         0.0            0.0         0.0                   1.0   \n",
       "\n",
       "   Financial Stress_2.0  Financial Stress_3.0  Financial Stress_4.0  \\\n",
       "0                   0.0                   0.0                   0.0   \n",
       "1                   1.0                   0.0                   0.0   \n",
       "2                   0.0                   0.0                   0.0   \n",
       "3                   0.0                   0.0                   0.0   \n",
       "4                   0.0                   0.0                   0.0   \n",
       "\n",
       "   Financial Stress_5.0  Financial Stress_?  \n",
       "0                   0.0                 0.0  \n",
       "1                   0.0                 0.0  \n",
       "2                   0.0                 0.0  \n",
       "3                   1.0                 0.0  \n",
       "4                   0.0                 0.0  \n",
       "\n",
       "[5 rows x 121 columns]"
      ],
      "text/html": [
       "<div>\n",
       "<style scoped>\n",
       "    .dataframe tbody tr th:only-of-type {\n",
       "        vertical-align: middle;\n",
       "    }\n",
       "\n",
       "    .dataframe tbody tr th {\n",
       "        vertical-align: top;\n",
       "    }\n",
       "\n",
       "    .dataframe thead th {\n",
       "        text-align: right;\n",
       "    }\n",
       "</style>\n",
       "<table border=\"1\" class=\"dataframe\">\n",
       "  <thead>\n",
       "    <tr style=\"text-align: right;\">\n",
       "      <th></th>\n",
       "      <th>id</th>\n",
       "      <th>Gender</th>\n",
       "      <th>Age</th>\n",
       "      <th>Academic Pressure</th>\n",
       "      <th>Work Pressure</th>\n",
       "      <th>CGPA</th>\n",
       "      <th>Study Satisfaction</th>\n",
       "      <th>Job Satisfaction</th>\n",
       "      <th>Have you ever had suicidal thoughts ?</th>\n",
       "      <th>Work/Study Hours</th>\n",
       "      <th>...</th>\n",
       "      <th>Degree_MHM</th>\n",
       "      <th>Degree_MSc</th>\n",
       "      <th>Degree_Others</th>\n",
       "      <th>Degree_PhD</th>\n",
       "      <th>Financial Stress_1.0</th>\n",
       "      <th>Financial Stress_2.0</th>\n",
       "      <th>Financial Stress_3.0</th>\n",
       "      <th>Financial Stress_4.0</th>\n",
       "      <th>Financial Stress_5.0</th>\n",
       "      <th>Financial Stress_?</th>\n",
       "    </tr>\n",
       "  </thead>\n",
       "  <tbody>\n",
       "    <tr>\n",
       "      <th>0</th>\n",
       "      <td>2</td>\n",
       "      <td>1</td>\n",
       "      <td>33.0</td>\n",
       "      <td>5.0</td>\n",
       "      <td>0.0</td>\n",
       "      <td>8.97</td>\n",
       "      <td>2.0</td>\n",
       "      <td>0.0</td>\n",
       "      <td>1</td>\n",
       "      <td>3.0</td>\n",
       "      <td>...</td>\n",
       "      <td>0.0</td>\n",
       "      <td>0.0</td>\n",
       "      <td>0.0</td>\n",
       "      <td>0.0</td>\n",
       "      <td>1.0</td>\n",
       "      <td>0.0</td>\n",
       "      <td>0.0</td>\n",
       "      <td>0.0</td>\n",
       "      <td>0.0</td>\n",
       "      <td>0.0</td>\n",
       "    </tr>\n",
       "    <tr>\n",
       "      <th>1</th>\n",
       "      <td>8</td>\n",
       "      <td>0</td>\n",
       "      <td>24.0</td>\n",
       "      <td>2.0</td>\n",
       "      <td>0.0</td>\n",
       "      <td>5.90</td>\n",
       "      <td>5.0</td>\n",
       "      <td>0.0</td>\n",
       "      <td>0</td>\n",
       "      <td>3.0</td>\n",
       "      <td>...</td>\n",
       "      <td>0.0</td>\n",
       "      <td>0.0</td>\n",
       "      <td>0.0</td>\n",
       "      <td>0.0</td>\n",
       "      <td>0.0</td>\n",
       "      <td>1.0</td>\n",
       "      <td>0.0</td>\n",
       "      <td>0.0</td>\n",
       "      <td>0.0</td>\n",
       "      <td>0.0</td>\n",
       "    </tr>\n",
       "    <tr>\n",
       "      <th>2</th>\n",
       "      <td>26</td>\n",
       "      <td>1</td>\n",
       "      <td>31.0</td>\n",
       "      <td>3.0</td>\n",
       "      <td>0.0</td>\n",
       "      <td>7.03</td>\n",
       "      <td>5.0</td>\n",
       "      <td>0.0</td>\n",
       "      <td>0</td>\n",
       "      <td>9.0</td>\n",
       "      <td>...</td>\n",
       "      <td>0.0</td>\n",
       "      <td>0.0</td>\n",
       "      <td>0.0</td>\n",
       "      <td>0.0</td>\n",
       "      <td>1.0</td>\n",
       "      <td>0.0</td>\n",
       "      <td>0.0</td>\n",
       "      <td>0.0</td>\n",
       "      <td>0.0</td>\n",
       "      <td>0.0</td>\n",
       "    </tr>\n",
       "    <tr>\n",
       "      <th>3</th>\n",
       "      <td>30</td>\n",
       "      <td>0</td>\n",
       "      <td>28.0</td>\n",
       "      <td>3.0</td>\n",
       "      <td>0.0</td>\n",
       "      <td>5.59</td>\n",
       "      <td>2.0</td>\n",
       "      <td>0.0</td>\n",
       "      <td>1</td>\n",
       "      <td>4.0</td>\n",
       "      <td>...</td>\n",
       "      <td>0.0</td>\n",
       "      <td>0.0</td>\n",
       "      <td>0.0</td>\n",
       "      <td>0.0</td>\n",
       "      <td>0.0</td>\n",
       "      <td>0.0</td>\n",
       "      <td>0.0</td>\n",
       "      <td>0.0</td>\n",
       "      <td>1.0</td>\n",
       "      <td>0.0</td>\n",
       "    </tr>\n",
       "    <tr>\n",
       "      <th>4</th>\n",
       "      <td>32</td>\n",
       "      <td>0</td>\n",
       "      <td>25.0</td>\n",
       "      <td>4.0</td>\n",
       "      <td>0.0</td>\n",
       "      <td>8.13</td>\n",
       "      <td>3.0</td>\n",
       "      <td>0.0</td>\n",
       "      <td>1</td>\n",
       "      <td>1.0</td>\n",
       "      <td>...</td>\n",
       "      <td>0.0</td>\n",
       "      <td>0.0</td>\n",
       "      <td>0.0</td>\n",
       "      <td>0.0</td>\n",
       "      <td>1.0</td>\n",
       "      <td>0.0</td>\n",
       "      <td>0.0</td>\n",
       "      <td>0.0</td>\n",
       "      <td>0.0</td>\n",
       "      <td>0.0</td>\n",
       "    </tr>\n",
       "  </tbody>\n",
       "</table>\n",
       "<p>5 rows × 121 columns</p>\n",
       "</div>"
      ]
     },
     "execution_count": 2,
     "metadata": {},
     "output_type": "execute_result"
    }
   ],
   "execution_count": 2
  },
  {
   "metadata": {
    "ExecuteTime": {
     "end_time": "2025-09-25T10:47:00.321641Z",
     "start_time": "2025-09-25T10:47:00.162149Z"
    }
   },
   "cell_type": "code",
   "source": [
    "sel = num_cols[:8]\n",
    "ax = df[sel].plot(kind='box', figsize=(10,4), title='Boxplot (sample numeric features)')\n",
    "plt.tight_layout(); plt.savefig(VIS_DIR/'05_outliers_boxplot_before.png', dpi=150); plt.close()"
   ],
   "id": "ebd9efb7b1317259",
   "outputs": [],
   "execution_count": 3
  },
  {
   "metadata": {
    "ExecuteTime": {
     "end_time": "2025-09-25T10:47:02.349335Z",
     "start_time": "2025-09-25T10:47:02.194933Z"
    }
   },
   "cell_type": "code",
   "source": [
    "def iqr_winsorize(s, k=1.5):\n",
    "    q1, q3 = s.quantile(0.25), s.quantile(0.75)\n",
    "    iqr = q3 - q1\n",
    "    return s.clip(q1 - k*iqr, q3 + k*iqr)\n",
    "\n",
    "df_w = df.copy()\n",
    "for c in num_cols:\n",
    "    df_w[c] = iqr_winsorize(df_w[c])"
   ],
   "id": "82d62fe39238fdba",
   "outputs": [],
   "execution_count": 4
  },
  {
   "metadata": {
    "ExecuteTime": {
     "end_time": "2025-09-25T10:47:03.752161Z",
     "start_time": "2025-09-25T10:47:03.623153Z"
    }
   },
   "cell_type": "code",
   "source": [
    "df_w[sel].plot(kind='box', figsize=(10,4), title='Boxplot after IQR winsorization')\n",
    "plt.tight_layout(); plt.savefig(VIS_DIR/'06_outliers_boxplot_after.png', dpi=150); plt.close()"
   ],
   "id": "82037de1f24bf51f",
   "outputs": [],
   "execution_count": 5
  },
  {
   "metadata": {
    "ExecuteTime": {
     "end_time": "2025-09-25T10:47:05.664629Z",
     "start_time": "2025-09-25T10:47:05.501755Z"
    }
   },
   "cell_type": "code",
   "source": [
    "# histogram before vs after (one feature)\n",
    "feat = sel[0] if len(sel) else None\n",
    "if feat:\n",
    "    plt.figure()\n",
    "    df[feat].plot(kind='hist', alpha=0.6, bins=30, label='before')\n",
    "    df_w[feat].plot(kind='hist', alpha=0.6, bins=30, label='after')\n",
    "    plt.legend(); plt.title(f'{feat}: before vs after')\n",
    "    plt.tight_layout(); plt.savefig(VIS_DIR/'07_outliers_hist_before_after.png', dpi=150); plt.close()\n"
   ],
   "id": "37b943033d818636",
   "outputs": [],
   "execution_count": 6
  },
  {
   "metadata": {
    "ExecuteTime": {
     "end_time": "2025-09-25T10:47:07.492589Z",
     "start_time": "2025-09-25T10:47:07.378078Z"
    }
   },
   "cell_type": "code",
   "source": [
    "# outlier counts (before)\n",
    "outlier_counts = {}\n",
    "for c in sel:\n",
    "    q1, q3 = df[c].quantile(0.25), df[c].quantile(0.75)\n",
    "    iqr = q3 - q1\n",
    "    lower, upper = q1 - 1.5*iqr, q3 + 1.5*iqr\n",
    "    outlier_counts[c] = ((df[c] < lower) | (df[c] > upper)).sum()\n",
    "\n",
    "pd.Series(outlier_counts).plot(kind='bar', title='Estimated outlier counts (sample features)')\n",
    "plt.tight_layout(); plt.savefig(VIS_DIR/'08_outliers_counts.png', dpi=150); plt.close()"
   ],
   "id": "91bdf2af830ce185",
   "outputs": [],
   "execution_count": 7
  },
  {
   "metadata": {
    "ExecuteTime": {
     "end_time": "2025-09-25T10:47:10.284951Z",
     "start_time": "2025-09-25T10:47:09.293765Z"
    }
   },
   "cell_type": "code",
   "source": [
    "# CELL 5: Save\n",
    "out_path = OUT_DIR/'02_outliers_winsorized.csv'\n",
    "df_w.to_csv(out_path, index=False)\n",
    "out_path"
   ],
   "id": "9fd625e8ca495c3",
   "outputs": [
    {
     "data": {
      "text/plain": [
       "WindowsPath('D:/Depression_detector/results/outputs/02_outliers_winsorized.csv')"
      ]
     },
     "execution_count": 8,
     "metadata": {},
     "output_type": "execute_result"
    }
   ],
   "execution_count": 8
  }
 ],
 "metadata": {
  "kernelspec": {
   "display_name": "Python 3",
   "language": "python",
   "name": "python3"
  },
  "language_info": {
   "codemirror_mode": {
    "name": "ipython",
    "version": 2
   },
   "file_extension": ".py",
   "mimetype": "text/x-python",
   "name": "python",
   "nbconvert_exporter": "python",
   "pygments_lexer": "ipython2",
   "version": "2.7.6"
  }
 },
 "nbformat": 4,
 "nbformat_minor": 5
}
