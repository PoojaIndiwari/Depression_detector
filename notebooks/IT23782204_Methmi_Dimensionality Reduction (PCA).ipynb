{
 "cells": [
  {
   "cell_type": "code",
   "id": "initial_id",
   "metadata": {
    "collapsed": true,
    "ExecuteTime": {
     "end_time": "2025-09-25T17:36:00.862232Z",
     "start_time": "2025-09-25T17:36:00.705477Z"
    }
   },
   "source": [
    "from pathlib import Path\n",
    "import pandas as pd\n",
    "import numpy as np\n",
    "from sklearn.preprocessing import StandardScaler\n",
    "from sklearn.decomposition import PCA\n",
    "import matplotlib.pyplot as plt"
   ],
   "outputs": [],
   "execution_count": 2
  },
  {
   "metadata": {
    "ExecuteTime": {
     "end_time": "2025-09-25T17:36:03.018185Z",
     "start_time": "2025-09-25T17:36:02.801776Z"
    }
   },
   "cell_type": "code",
   "source": [
    "def find_root():\n",
    "    p = Path.cwd()\n",
    "    for _ in range(5):\n",
    "        if (p/'results'/'outputs'/'03_feature_engineered.csv').exists() or (p/'results').exists():\n",
    "            return p\n",
    "        p = p.parent\n",
    "    return Path.cwd()\n",
    "\n",
    "ROOT = find_root()\n",
    "VIS_DIR = ROOT/'results'/'eda_visualizations'\n",
    "OUT_DIR = ROOT/'results'/'outputs'\n",
    "df = pd.read_csv(OUT_DIR/'03_feature_engineered.csv')\n",
    "TARGET = 'Depression'\n",
    "print(df.shape)\n",
    "\n",
    "\n",
    "X = df.drop(columns=[TARGET])\n",
    "y = df[TARGET]\n",
    "num_cols = X.select_dtypes(include=[np.number]).columns\n",
    "df.head()"
   ],
   "id": "e302a3aa9b0df404",
   "outputs": [
    {
     "name": "stdout",
     "output_type": "stream",
     "text": [
      "(27901, 125)\n"
     ]
    },
    {
     "data": {
      "text/plain": [
       "   id  Gender   Age  Academic Pressure  Work Pressure  CGPA  \\\n",
       "0   2       1  33.0                5.0            0.0  8.97   \n",
       "1   8       0  24.0                2.0            0.0  5.90   \n",
       "2  26       1  31.0                3.0            0.0  7.03   \n",
       "3  30       0  28.0                3.0            0.0  5.59   \n",
       "4  32       0  25.0                4.0            0.0  8.13   \n",
       "\n",
       "   Study Satisfaction  Job Satisfaction  \\\n",
       "0                 2.0               0.0   \n",
       "1                 5.0               0.0   \n",
       "2                 5.0               0.0   \n",
       "3                 2.0               0.0   \n",
       "4                 3.0               0.0   \n",
       "\n",
       "   Have you ever had suicidal thoughts ?  Work/Study Hours  ...  \\\n",
       "0                                      1               3.0  ...   \n",
       "1                                      0               3.0  ...   \n",
       "2                                      0               9.0  ...   \n",
       "3                                      1               4.0  ...   \n",
       "4                                      1               1.0  ...   \n",
       "\n",
       "   Financial Stress_1.0  Financial Stress_2.0  Financial Stress_3.0  \\\n",
       "0                   0.0                   0.0                   0.0   \n",
       "1                   0.0                   0.0                   0.0   \n",
       "2                   0.0                   0.0                   0.0   \n",
       "3                   0.0                   0.0                   0.0   \n",
       "4                   0.0                   0.0                   0.0   \n",
       "\n",
       "   Financial Stress_4.0  Financial Stress_5.0  Financial Stress_?  \\\n",
       "0                   0.0                   0.0                 0.0   \n",
       "1                   0.0                   0.0                 0.0   \n",
       "2                   0.0                   0.0                 0.0   \n",
       "3                   0.0                   0.0                 0.0   \n",
       "4                   0.0                   0.0                 0.0   \n",
       "\n",
       "   Pressure_Intensity  Sleep_Hours_Est  Is_Student  CGPAxStudySat  \n",
       "0            1.666667              6.5           0          17.94  \n",
       "1            0.333333              6.5           0          29.50  \n",
       "2            0.500000              6.5           0          35.15  \n",
       "3            1.000000              6.5           0          11.18  \n",
       "4            1.000000              6.5           0          24.39  \n",
       "\n",
       "[5 rows x 125 columns]"
      ],
      "text/html": [
       "<div>\n",
       "<style scoped>\n",
       "    .dataframe tbody tr th:only-of-type {\n",
       "        vertical-align: middle;\n",
       "    }\n",
       "\n",
       "    .dataframe tbody tr th {\n",
       "        vertical-align: top;\n",
       "    }\n",
       "\n",
       "    .dataframe thead th {\n",
       "        text-align: right;\n",
       "    }\n",
       "</style>\n",
       "<table border=\"1\" class=\"dataframe\">\n",
       "  <thead>\n",
       "    <tr style=\"text-align: right;\">\n",
       "      <th></th>\n",
       "      <th>id</th>\n",
       "      <th>Gender</th>\n",
       "      <th>Age</th>\n",
       "      <th>Academic Pressure</th>\n",
       "      <th>Work Pressure</th>\n",
       "      <th>CGPA</th>\n",
       "      <th>Study Satisfaction</th>\n",
       "      <th>Job Satisfaction</th>\n",
       "      <th>Have you ever had suicidal thoughts ?</th>\n",
       "      <th>Work/Study Hours</th>\n",
       "      <th>...</th>\n",
       "      <th>Financial Stress_1.0</th>\n",
       "      <th>Financial Stress_2.0</th>\n",
       "      <th>Financial Stress_3.0</th>\n",
       "      <th>Financial Stress_4.0</th>\n",
       "      <th>Financial Stress_5.0</th>\n",
       "      <th>Financial Stress_?</th>\n",
       "      <th>Pressure_Intensity</th>\n",
       "      <th>Sleep_Hours_Est</th>\n",
       "      <th>Is_Student</th>\n",
       "      <th>CGPAxStudySat</th>\n",
       "    </tr>\n",
       "  </thead>\n",
       "  <tbody>\n",
       "    <tr>\n",
       "      <th>0</th>\n",
       "      <td>2</td>\n",
       "      <td>1</td>\n",
       "      <td>33.0</td>\n",
       "      <td>5.0</td>\n",
       "      <td>0.0</td>\n",
       "      <td>8.97</td>\n",
       "      <td>2.0</td>\n",
       "      <td>0.0</td>\n",
       "      <td>1</td>\n",
       "      <td>3.0</td>\n",
       "      <td>...</td>\n",
       "      <td>0.0</td>\n",
       "      <td>0.0</td>\n",
       "      <td>0.0</td>\n",
       "      <td>0.0</td>\n",
       "      <td>0.0</td>\n",
       "      <td>0.0</td>\n",
       "      <td>1.666667</td>\n",
       "      <td>6.5</td>\n",
       "      <td>0</td>\n",
       "      <td>17.94</td>\n",
       "    </tr>\n",
       "    <tr>\n",
       "      <th>1</th>\n",
       "      <td>8</td>\n",
       "      <td>0</td>\n",
       "      <td>24.0</td>\n",
       "      <td>2.0</td>\n",
       "      <td>0.0</td>\n",
       "      <td>5.90</td>\n",
       "      <td>5.0</td>\n",
       "      <td>0.0</td>\n",
       "      <td>0</td>\n",
       "      <td>3.0</td>\n",
       "      <td>...</td>\n",
       "      <td>0.0</td>\n",
       "      <td>0.0</td>\n",
       "      <td>0.0</td>\n",
       "      <td>0.0</td>\n",
       "      <td>0.0</td>\n",
       "      <td>0.0</td>\n",
       "      <td>0.333333</td>\n",
       "      <td>6.5</td>\n",
       "      <td>0</td>\n",
       "      <td>29.50</td>\n",
       "    </tr>\n",
       "    <tr>\n",
       "      <th>2</th>\n",
       "      <td>26</td>\n",
       "      <td>1</td>\n",
       "      <td>31.0</td>\n",
       "      <td>3.0</td>\n",
       "      <td>0.0</td>\n",
       "      <td>7.03</td>\n",
       "      <td>5.0</td>\n",
       "      <td>0.0</td>\n",
       "      <td>0</td>\n",
       "      <td>9.0</td>\n",
       "      <td>...</td>\n",
       "      <td>0.0</td>\n",
       "      <td>0.0</td>\n",
       "      <td>0.0</td>\n",
       "      <td>0.0</td>\n",
       "      <td>0.0</td>\n",
       "      <td>0.0</td>\n",
       "      <td>0.500000</td>\n",
       "      <td>6.5</td>\n",
       "      <td>0</td>\n",
       "      <td>35.15</td>\n",
       "    </tr>\n",
       "    <tr>\n",
       "      <th>3</th>\n",
       "      <td>30</td>\n",
       "      <td>0</td>\n",
       "      <td>28.0</td>\n",
       "      <td>3.0</td>\n",
       "      <td>0.0</td>\n",
       "      <td>5.59</td>\n",
       "      <td>2.0</td>\n",
       "      <td>0.0</td>\n",
       "      <td>1</td>\n",
       "      <td>4.0</td>\n",
       "      <td>...</td>\n",
       "      <td>0.0</td>\n",
       "      <td>0.0</td>\n",
       "      <td>0.0</td>\n",
       "      <td>0.0</td>\n",
       "      <td>0.0</td>\n",
       "      <td>0.0</td>\n",
       "      <td>1.000000</td>\n",
       "      <td>6.5</td>\n",
       "      <td>0</td>\n",
       "      <td>11.18</td>\n",
       "    </tr>\n",
       "    <tr>\n",
       "      <th>4</th>\n",
       "      <td>32</td>\n",
       "      <td>0</td>\n",
       "      <td>25.0</td>\n",
       "      <td>4.0</td>\n",
       "      <td>0.0</td>\n",
       "      <td>8.13</td>\n",
       "      <td>3.0</td>\n",
       "      <td>0.0</td>\n",
       "      <td>1</td>\n",
       "      <td>1.0</td>\n",
       "      <td>...</td>\n",
       "      <td>0.0</td>\n",
       "      <td>0.0</td>\n",
       "      <td>0.0</td>\n",
       "      <td>0.0</td>\n",
       "      <td>0.0</td>\n",
       "      <td>0.0</td>\n",
       "      <td>1.000000</td>\n",
       "      <td>6.5</td>\n",
       "      <td>0</td>\n",
       "      <td>24.39</td>\n",
       "    </tr>\n",
       "  </tbody>\n",
       "</table>\n",
       "<p>5 rows × 125 columns</p>\n",
       "</div>"
      ]
     },
     "execution_count": 3,
     "metadata": {},
     "output_type": "execute_result"
    }
   ],
   "execution_count": 3
  },
  {
   "metadata": {
    "ExecuteTime": {
     "end_time": "2025-09-25T17:36:05.556534Z",
     "start_time": "2025-09-25T17:36:05.438878Z"
    }
   },
   "cell_type": "code",
   "source": [
    "scaler = StandardScaler()\n",
    "X_num_scaled = scaler.fit_transform(X[num_cols])\n",
    "\n",
    "pca = PCA(n_components=0.95, random_state=42)\n",
    "X_pca = pca.fit_transform(X_num_scaled)\n",
    "X_pca_df = pd.DataFrame(X_pca, columns=[f'PCA_{i+1}' for i in range(X_pca.shape[1])])"
   ],
   "id": "ee706e8e57c47a75",
   "outputs": [],
   "execution_count": 4
  },
  {
   "metadata": {
    "ExecuteTime": {
     "end_time": "2025-09-25T17:36:11.659098Z",
     "start_time": "2025-09-25T17:36:11.648523Z"
    }
   },
   "cell_type": "code",
   "source": [
    "df_pca = pd.concat([X.drop(columns=num_cols).reset_index(drop=True),\n",
    "                    X_pca_df.reset_index(drop=True),\n",
    "                    y.reset_index(drop=True)], axis=1)\n",
    "\n",
    "df_pca.head(), X_pca_df.shape, pca.explained_variance_ratio_.sum()"
   ],
   "id": "4f2e63075b6176c0",
   "outputs": [
    {
     "data": {
      "text/plain": [
       "(      PCA_1     PCA_2     PCA_3     PCA_4     PCA_5     PCA_6     PCA_7  \\\n",
       " 0  1.354889 -0.461946 -1.304167 -0.553253  1.339322  2.171098 -0.464770   \n",
       " 1 -2.137472 -1.382699  0.934879  0.333345 -0.752611 -1.465197 -1.806167   \n",
       " 2 -2.089977 -0.392260 -0.894180 -2.097222  0.607102  0.326287 -1.983398   \n",
       " 3  1.022568 -1.523374  0.414855  1.907671 -0.342986 -1.364335 -1.877241   \n",
       " 4  0.097937 -0.912120  1.411545  0.414433  0.397165  0.195281 -0.460175   \n",
       " \n",
       "       PCA_8     PCA_9    PCA_10    PCA_11    PCA_12  Depression  \n",
       " 0 -0.124972 -1.283599  1.268966  1.423577  0.920441           1  \n",
       " 1 -1.050295 -1.165202 -0.167835  0.749534 -0.800566           0  \n",
       " 2  0.312080  0.471597  1.269501  1.118669 -0.864279           0  \n",
       " 3 -0.879892 -0.748270  0.375049  0.579325  1.195464           1  \n",
       " 4 -0.782131 -2.592791  0.096868  0.476846  0.803571           0  ,\n",
       " (27901, 12),\n",
       " np.float64(0.9567872420950032))"
      ]
     },
     "execution_count": 5,
     "metadata": {},
     "output_type": "execute_result"
    }
   ],
   "execution_count": 5
  },
  {
   "metadata": {
    "ExecuteTime": {
     "end_time": "2025-09-25T17:36:34.074623Z",
     "start_time": "2025-09-25T17:36:33.959161Z"
    }
   },
   "cell_type": "code",
   "source": [
    "plt.figure()\n",
    "plt.plot(range(1, len(pca.explained_variance_ratio_)+1), pca.explained_variance_ratio_, marker='o')\n",
    "plt.title('PCA explained variance ratio'); plt.xlabel('Component'); plt.ylabel('Variance Ratio')\n",
    "plt.tight_layout(); plt.savefig(VIS_DIR/'13_pca_scree.png', dpi=150); plt.close()"
   ],
   "id": "4825db46db3cec2f",
   "outputs": [],
   "execution_count": 6
  },
  {
   "metadata": {
    "ExecuteTime": {
     "end_time": "2025-09-25T17:36:53.548600Z",
     "start_time": "2025-09-25T17:36:53.422489Z"
    }
   },
   "cell_type": "code",
   "source": [
    "plt.figure()\n",
    "plt.plot(range(1, len(pca.explained_variance_ratio_)+1), np.cumsum(pca.explained_variance_ratio_), marker='o')\n",
    "plt.title('PCA cumulative explained variance'); plt.xlabel('Component'); plt.ylabel('Cumulative Variance')\n",
    "plt.tight_layout(); plt.savefig(VIS_DIR/'14_pca_cumulative.png', dpi=150); plt.close()"
   ],
   "id": "22af63d5021304ec",
   "outputs": [],
   "execution_count": 7
  },
  {
   "metadata": {
    "ExecuteTime": {
     "end_time": "2025-09-25T17:37:17.387508Z",
     "start_time": "2025-09-25T17:37:16.801671Z"
    }
   },
   "cell_type": "code",
   "source": [
    "if X_pca_df.shape[1] >= 2:\n",
    "    plt.figure()\n",
    "    plt.scatter(X_pca_df.iloc[:,0], X_pca_df.iloc[:,1], s=5, c=y, alpha=0.4)\n",
    "    plt.title('PCA_1 vs PCA_2 (colored by target)')\n",
    "    plt.xlabel('PCA_1'); plt.ylabel('PCA_2')\n",
    "    plt.tight_layout(); plt.savefig(VIS_DIR/'15_pca_scatter.png', dpi=150); plt.close()"
   ],
   "id": "1183de6162663643",
   "outputs": [],
   "execution_count": 8
  },
  {
   "metadata": {
    "ExecuteTime": {
     "end_time": "2025-09-25T17:37:21.572205Z",
     "start_time": "2025-09-25T17:37:21.448702Z"
    }
   },
   "cell_type": "code",
   "source": [
    "loadings = pd.Series(np.abs(pca.components_[0]), index=num_cols).sort_values(ascending=False).head(10)\n",
    "ax = loadings.plot(kind='bar', title='Top |loadings| on PC1')\n",
    "plt.tight_layout(); plt.savefig(VIS_DIR/'16_pca_top_loadings_pc1.png', dpi=150); plt.close()"
   ],
   "id": "faee3d393dfdbe5a",
   "outputs": [],
   "execution_count": 9
  },
  {
   "metadata": {
    "ExecuteTime": {
     "end_time": "2025-09-25T17:37:23.844027Z",
     "start_time": "2025-09-25T17:37:23.543790Z"
    }
   },
   "cell_type": "code",
   "source": [
    "out_path = OUT_DIR/'04_pca_reduced.csv'\n",
    "df_pca.to_csv(out_path, index=False)\n",
    "out_path"
   ],
   "id": "d734f614fe7d11cf",
   "outputs": [
    {
     "data": {
      "text/plain": [
       "WindowsPath('D:/Depression_detector/results/outputs/04_pca_reduced.csv')"
      ]
     },
     "execution_count": 10,
     "metadata": {},
     "output_type": "execute_result"
    }
   ],
   "execution_count": 10
  }
 ],
 "metadata": {
  "kernelspec": {
   "display_name": "Python 3",
   "language": "python",
   "name": "python3"
  },
  "language_info": {
   "codemirror_mode": {
    "name": "ipython",
    "version": 2
   },
   "file_extension": ".py",
   "mimetype": "text/x-python",
   "name": "python",
   "nbconvert_exporter": "python",
   "pygments_lexer": "ipython2",
   "version": "2.7.6"
  }
 },
 "nbformat": 4,
 "nbformat_minor": 5
}
